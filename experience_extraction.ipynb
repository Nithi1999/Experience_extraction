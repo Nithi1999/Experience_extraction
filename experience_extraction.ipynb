{
  "cells": [
    {
      "cell_type": "markdown",
      "source": [
        " **Setup Environment**\n",
        "\n",
        " Installing necessary libraries\n"
      ],
      "metadata": {
        "id": "3MbjUSQHzJHw"
      }
    },
    {
      "cell_type": "code",
      "execution_count": null,
      "metadata": {
        "id": "KELMNd5lhBFy"
      },
      "outputs": [],
      "source": [
        "\n",
        "!apt update\n",
        "!apt install -y python3-venv\n",
        "\n",
        "!pip install spacy==3.7.2\n",
        "!pip install spacy-transformers\n",
        "!pip install torch torchvision torchaudio -f https://download.pytorch.org/whl/cu113/torch_stable.html\n",
        "\n",
        "\n",
        "!python -m spacy download en_core_web_trf\n",
        "\n",
        "\n",
        "!pip install numpy>=1.25.0 pandas-stubs==2.0.3.230814\n",
        "\n",
        "\n",
        "\n",
        "!nvidia-smi\n",
        "!nvcc --version"
      ]
    },
    {
      "cell_type": "code",
      "source": [
        "!nvcc --version\n",
        "!cat /usr/include/cudnn_version.h | grep CUDNN_MAJOR -A 2\n",
        "\n",
        "# !pip install torch\n",
        "import torch\n",
        "print(torch.cuda.is_available())"
      ],
      "metadata": {
        "id": "6Y5Fj2iJhO03"
      },
      "execution_count": null,
      "outputs": []
    },
    {
      "cell_type": "code",
      "execution_count": null,
      "metadata": {
        "id": "iCEU9PRUvsvg"
      },
      "outputs": [],
      "source": [
        "!pip install spacy==3.7.2\n",
        "!python -m spacy info"
      ]
    },
    {
      "cell_type": "code",
      "execution_count": null,
      "metadata": {
        "id": "xm4woAdC0FNG"
      },
      "outputs": [],
      "source": [
        "!pip install spacy-transformers\n",
        "!pip install transformers"
      ]
    },
    {
      "cell_type": "code",
      "execution_count": null,
      "metadata": {
        "id": "RqzjSgE0zQSk"
      },
      "outputs": [],
      "source": [
        "# import spacy\n",
        "# from spacy.tokens import DocBin\n",
        "# from tqdm import tqdm\n",
        "# import os\n",
        "# import json\n",
        "# import random\n",
        "\n",
        "# # Load English blank model\n",
        "# nlp = spacy.blank(\"en\")\n",
        "\n",
        "# # Function to convert data to .spacy format\n",
        "# def convert_to_spacy_format(data):\n",
        "#     db = DocBin()\n",
        "#     for text, annot in tqdm(data):\n",
        "#         doc = nlp.make_doc(text)\n",
        "#         ents = []\n",
        "#         for start, end, label in annot[\"entities\"]:\n",
        "#             span = doc.char_span(start, end, label=label, alignment_mode=\"contract\")\n",
        "#             if span is None:\n",
        "#                 print(\"Skipping entity\")\n",
        "#             else:\n",
        "#                 ents.append(span)\n",
        "#         doc.ents = ents\n",
        "#         db.add(doc)\n",
        "#     return db\n",
        "\n",
        "# # Load all JSON files from the \"train\" directory\n",
        "# train_dir = \"/experience_extraction/train\"\n",
        "# all_data = []\n",
        "# for filename in os.listdir(train_dir):\n",
        "#     if filename.endswith(\".json\"):\n",
        "#         with open(os.path.join(train_dir, filename)) as f:\n",
        "#             data = json.load(f)\n",
        "#             all_data.extend(data[\"annotations\"])"
      ]
    },
    {
      "cell_type": "markdown",
      "source": [
        "**Data Preprocessing**"
      ],
      "metadata": {
        "id": "Of5g-Pb10Ad6"
      }
    },
    {
      "cell_type": "code",
      "source": [
        "from tqdm import tqdm\n",
        "import spacy\n",
        "from spacy.tokens import DocBin\n",
        "import json\n",
        "import os\n",
        "\n",
        "def convert_to_spacy(json_spec):\n",
        "    nlp = spacy.blank(\"en\") # load a new spacy model\n",
        "    db = DocBin() # create a DocBin object\n",
        "    dir, file_name = os.path.split(json_spec)\n",
        "    with open(json_spec) as json_f:\n",
        "        data = json.load(json_f)\n",
        "\n",
        "    td = [item for item in data['annotations'] if item]\n",
        "    for text, annot in tqdm(td): # data in previous format\n",
        "        doc = nlp.make_doc(text) # create doc object from text\n",
        "        ents = []\n",
        "        if not annot[\"entities\"]:\n",
        "          continue\n",
        "\n",
        "        for start, end, label in annot[\"entities\"]: # add character indexes\n",
        "            span = doc.char_span(start, end, label=label, alignment_mode=\"contract\")\n",
        "            if span is None:\n",
        "                print(\"Skipping entity\")\n",
        "            else:\n",
        "                ents.append(span)\n",
        "        doc.ents = ents # label the text with the ents\n",
        "        db.add(doc)\n",
        "\n",
        "    db.to_disk(os.path.join(dir, f\"{file_name.split('.')[0]}.spacy\"))\n"
      ],
      "metadata": {
        "id": "BFpoGkKBJgGu"
      },
      "execution_count": null,
      "outputs": []
    },
    {
      "cell_type": "code",
      "source": [
        "convert_to_spacy(\"/experience_extraction/training_data/training/annotated_dataset.json\")"
      ],
      "metadata": {
        "id": "vhj6sJQAJkk3"
      },
      "execution_count": null,
      "outputs": []
    },
    {
      "cell_type": "code",
      "execution_count": null,
      "metadata": {
        "id": "zem4-2qGaQdY"
      },
      "outputs": [],
      "source": [
        "# # Shuffle the data\n",
        "# random.shuffle(all_data)\n",
        "\n",
        "# # Split data into training and validation sets (80% training, 20% validation)\n",
        "# split_idx = int(0.8 * len(all_data))\n",
        "# train_data = all_data[:split_idx]\n",
        "# val_data = all_data[split_idx:]"
      ]
    },
    {
      "cell_type": "code",
      "execution_count": null,
      "metadata": {
        "id": "4Tpt0ZgTaUHC"
      },
      "outputs": [],
      "source": [
        "# train_db = convert_to_spacy_format(train_data)\n",
        "# val_db = convert_to_spacy_format(val_data)\n"
      ]
    },
    {
      "cell_type": "code",
      "execution_count": null,
      "metadata": {
        "id": "RDmiVugmXQlp"
      },
      "outputs": [],
      "source": [
        "# # Save .spacy format files\n",
        "# train_db.to_disk(\"/experience_extraction/training_data/training/training_data.spacy\")\n",
        "# val_db.to_disk(\"/experience_extraction/training_data/validation/validation_data.spacy\")"
      ]
    },
    {
      "cell_type": "markdown",
      "source": [
        "**Training configuration**"
      ],
      "metadata": {
        "id": "rQCkz0ZC0OUJ"
      }
    },
    {
      "cell_type": "code",
      "execution_count": null,
      "metadata": {
        "id": "TZgQOYgX6rzx"
      },
      "outputs": [],
      "source": [
        "!python -m spacy init fill-config base_config.cfg config.cfg"
      ]
    },
    {
      "cell_type": "code",
      "execution_count": null,
      "metadata": {
        "id": "rmxZAFnFuTn2"
      },
      "outputs": [],
      "source": [
        "# !python -m spacy init config config.cfg --lang en --pipeline ner --optimize accuracy --force"
      ]
    },
    {
      "cell_type": "code",
      "execution_count": null,
      "metadata": {
        "id": "pkOnUgzKldFs"
      },
      "outputs": [],
      "source": [
        "# !python -m spacy download en_core_web_lg"
      ]
    },
    {
      "cell_type": "code",
      "execution_count": null,
      "metadata": {
        "id": "4wSRLPL3q_aV"
      },
      "outputs": [],
      "source": [
        "# !pip install spacy==3.7.2\n",
        "# !pip install spacy-transformers\n",
        "!python -m spacy download en_core_web_trf"
      ]
    },
    {
      "cell_type": "code",
      "source": [
        "# !pip install cupy"
      ],
      "metadata": {
        "id": "A72a0NDznhl2"
      },
      "execution_count": null,
      "outputs": []
    },
    {
      "cell_type": "markdown",
      "source": [
        " ***Train the model***\n"
      ],
      "metadata": {
        "id": "ba6ivUb90Ywi"
      }
    },
    {
      "cell_type": "code",
      "execution_count": null,
      "metadata": {
        "id": "eWdiiscOXcgp",
        "collapsed": true
      },
      "outputs": [],
      "source": [
        "!python -m spacy train config.cfg --output ./ --paths.train ./training_data/training/annotated_dataset.spacy --paths.dev ./training_data/validation/annotated_dataset.spacy --gpu-id 0"
      ]
    },
    {
      "cell_type": "markdown",
      "source": [
        "**Evaluating the model**"
      ],
      "metadata": {
        "id": "pK4Lgaz505HN"
      }
    },
    {
      "cell_type": "code",
      "execution_count": null,
      "metadata": {
        "id": "OF_GBJxsxERt",
        "colab": {
          "base_uri": "https://localhost:8080/"
        },
        "outputId": "eb9029c8-83cf-4c52-f0ad-959d17ec16a0",
        "collapsed": true
      },
      "outputs": [
        {
          "output_type": "stream",
          "name": "stderr",
          "text": [
            "/usr/local/lib/python3.10/dist-packages/transformers/utils/generic.py:441: UserWarning: torch.utils._pytree._register_pytree_node is deprecated. Please use torch.utils._pytree.register_pytree_node instead.\n",
            "  _torch_pytree._register_pytree_node(\n",
            "/usr/local/lib/python3.10/dist-packages/transformers/utils/generic.py:309: UserWarning: torch.utils._pytree._register_pytree_node is deprecated. Please use torch.utils._pytree.register_pytree_node instead.\n",
            "  _torch_pytree._register_pytree_node(\n",
            "/usr/local/lib/python3.10/dist-packages/transformers/utils/generic.py:309: UserWarning: torch.utils._pytree._register_pytree_node is deprecated. Please use torch.utils._pytree.register_pytree_node instead.\n",
            "  _torch_pytree._register_pytree_node(\n"
          ]
        }
      ],
      "source": [
        "import spacy\n",
        "nlp_ner = spacy.load(\"./model-best\")"
      ]
    },
    {
      "cell_type": "code",
      "execution_count": null,
      "metadata": {
        "id": "zCWTyYbBxHna"
      },
      "outputs": [],
      "source": [
        "doc = nlp_ner('''\n",
        "\n",
        "''')"
      ]
    },
    {
      "cell_type": "code",
      "execution_count": null,
      "metadata": {
        "id": "2d1Baw9PxLL3",
        "colab": {
          "base_uri": "https://localhost:8080/",
          "height": 1000
        },
        "outputId": "2932cca5-2966-421f-bd3d-282bef80f7f0",
        "collapsed": true
      },
      "outputs": [
        {
          "output_type": "display_data",
          "data": {
            "text/plain": [
              "<IPython.core.display.HTML object>"
            ],
            "text/html": [
              "<span class=\"tex2jax_ignore\"><div class=\"entities\" style=\"line-height: 2.5; direction: ltr\"><br>Vishnulal U.C<br>Mob     : +91 9947372967<br>Sreelal Bhavan<br>+91 7907457964<br>Elamadu P.O, Ayoor<br>Email    : viznulaluc@gmail.com<br>Kollam-691539<br>Kerala, India<br>CAREER OBJECTIVES<br>To work in an organization which provides scope for learning and personal development, which<br>would enable me to contribute substantially to the organization and society as a whole.<br>WORK EXPERIENCE<br>Total Experience in Programming : 6 year and 1 month<br>o \n",
              "<mark class=\"entity\" style=\"background: #ddd; padding: 0.45em 0.6em; margin: 0 0.25em; line-height: 1; border-radius: 0.35em;\">\n",
              "    Working as a Senior Software Engineer at H&amp;R Block, Technopark from 12-11-2018 to Present.\n",
              "    <span style=\"font-size: 0.8em; font-weight: bold; line-height: 1; border-radius: 0.35em; vertical-align: middle; margin-left: 0.5rem\">EXPERIENCE</span>\n",
              "</mark>\n",
              "<br>Projects<br>CIAM<br>:<br>Description:<br>HRB Suite<br>:<br>Description:<br>GreenRoom<br>:<br>Description:<br>Discussion forum web application for H&amp;R Block franchisees<br>Used Technologies:  PHP CodeIgniter, Bootstrap, jQuery, mySql<br>Roles &amp; Responsibilities<br>Developing and delivering tasks under Azure devops project management culture with Sprint/Kanban<br>methodologies.<br>Implementing back-end services by using the technologies such as Java spring boot/web-flow with object<br>oriented programming methodologies and using stored procedure for Ms Sql database operations.<br>Debugging issues and fixing them by troubleshooting the code.<br>Enhancing the UI by using the technologies like jQuery, JSP, Thymeleaf, HTML5, CSS3, Bootstrap etc.<br>Writing and running repeatable automated tests using JUnit framework.<br>Main authentication and authorization software of H&amp;R Block which is used in<br>all login, account creation and ID proofing experiences across all client<br>services.<br>Used Technologies: Java Spring Web Flow, JSP, jQuery<br>Human Resource Management software that combines HR functions like talent<br>management, time tracking and more into one platform. HRB Suite utilize HR<br>modules. HR modules are focused, automated tools that eliminate manual<br>tasks, assist with compliance, and securely store data.<br>Used Technologies: Java Spring Boot, Thymeleaf, MS Sql<br><br>o \n",
              "<mark class=\"entity\" style=\"background: #ddd; padding: 0.45em 0.6em; margin: 0 0.25em; line-height: 1; border-radius: 0.35em;\">\n",
              "    Worked as a Web Developer at BillionBrand, Technopark from 17-04-2018 to 31-10-2018.\n",
              "    <span style=\"font-size: 0.8em; font-weight: bold; line-height: 1; border-radius: 0.35em; vertical-align: middle; margin-left: 0.5rem\">EXPERIENCE</span>\n",
              "</mark>\n",
              "<br>Projects<br>Everest Gym<br>:<br>GYM Management software<br>Used Technologies  :<br>PHP Laravel/CodeIgniter, Bootstrap, jQuery, mySql<br>Roles &amp; Responsibilities<br>Developed web applications by working with both front-end and back-end, single handedly from scratch.<br>o \n",
              "<mark class=\"entity\" style=\"background: #ddd; padding: 0.45em 0.6em; margin: 0 0.25em; line-height: 1; border-radius: 0.35em;\">\n",
              "    Worked as a Software Engineer at NexGenSm, Technopark from 04-08-2017 to 29-03-2018.\n",
              "    <span style=\"font-size: 0.8em; font-weight: bold; line-height: 1; border-radius: 0.35em; vertical-align: middle; margin-left: 0.5rem\">EXPERIENCE</span>\n",
              "</mark>\n",
              "<br>Projects<br>Heart Food<br>:<br>Used Technologies :<br>PHP Laravel, Bootstrap, jQuery, mySql<br>Roles &amp; Responsibilities<br>Developed &amp; delivered tasks by working with both front-end and back-end of the application.<br>o \n",
              "<mark class=\"entity\" style=\"background: #ddd; padding: 0.45em 0.6em; margin: 0 0.25em; line-height: 1; border-radius: 0.35em;\">\n",
              "    Worked as Php developer at Rootlet technologies, Technopark from 19-09-2016 to 02-08-2017.\n",
              "    <span style=\"font-size: 0.8em; font-weight: bold; line-height: 1; border-radius: 0.35em; vertical-align: middle; margin-left: 0.5rem\">EXPERIENCE</span>\n",
              "</mark>\n",
              "<br>Projects<br>Oracon Builders<br>:<br>Construction Company Planning &amp; Management application.<br>Used Technologies :<br>PHP Laravel, Bootstrap, jQuery, mySql<br>Roles &amp; Responsibilities<br>Developed different softwares by working with both front-end and back-end, single handedly from scratch.<br>o \n",
              "<mark class=\"entity\" style=\"background: #ddd; padding: 0.45em 0.6em; margin: 0 0.25em; line-height: 1; border-radius: 0.35em;\">\n",
              "    Worked as a Php developer at Orange Dice, Kottarakara from 05-07-2015 to 05-02-2016\n",
              "and 01-04-2016 to 31-08-2016.\n",
              "    <span style=\"font-size: 0.8em; font-weight: bold; line-height: 1; border-radius: 0.35em; vertical-align: middle; margin-left: 0.5rem\">EXPERIENCE</span>\n",
              "</mark>\n",
              "<br>Projects<br>33<br>List of official websites designed (Used Technologies: Bootstrap, Html5, CSS3, CodeIgniter)<br>Billionbrand<br>Silhouette Frames<br>Rootlet Technologies<br>SF Exporters<br>Tejus Solutions<br>Anqaa Safety<br>TripNclicks(Blog site)<br>Web Tools Developed<br>Responsive Checker<br>Web scraping Tool<br>Roles &amp; Responsibilities<br>Developed different websites by working with both front-end and back-end from scratch.<br>Imparted training to interns<br>PROFESSIONAL SKILLS (Technologies handled)<br>o Development<br>: Java, Jsp, Php, Html5, Css3, Bootstrap, Ajax, JQuery<br>o Java Frameworks<br>: Spring boot, Spring Web Flow<br>o UI Frameworks<br>: Bootstrap, Thymeleaf, Blade UI, JSTL<br>o PHP Frameworks<br>: CodeIgniter, Laravel<br>o Databases<br>: Mysql, PgSql, MS SQL<br>o IDE/Editors<br>: Eclipse, Netbeans, PhpStorm, Notepad ++<br>o Project management<br>: Azure devops<br>Admin Panel of a Food based e-commerce web application where the admin<br>get a single dashboard to manage products, product categories, orders, etc.<br><br>o CMS<br>: WordPress<br>o Digital marketing<br>: SEO(Search Engine Optimization)<br>o UI/Graphic Designing<br>: Adobe Photoshop<br>o Other Familiar Tools<br>: Gitlab, Cpanel, FileZilla, WinSCP, PuTTY<br>CERTIFICATIONS<br>Web design in PHP Technology (PHP, MySQL, Ajax, Javascript, HTML, CSS) certified by TCIL-ITC<br>Awards / Achievements<br>Hall of fame: Awarded Hall of fame award from H&amp;R Block for integrating a new UI technology to CIAM<br>Educational Qualifications<br>PERSONAL DETAILS<br>Name<br>Vishnulal U C<br>Sex<br>Male<br>Date of Birth<br>31/05/1993<br>Name of Mother<br>Chithralekha R<br>Name of father<br>Upendran K<br>Martial status<br>Single<br>Blood Group<br>O +ve<br>Hobbies<br>Drawing, Writing, Travelling<br>LinkedIn<br>www.linkedin.com/in/vishnulal-uc<br>Personal Blog<br>http://www.viznulaluc.blogspot.com<br>Language Known<br>Malayalam, English<br>Passport No<br>M1583424<br>DECLARATION<br>I solemnly affirm that the information given above is true to the best of my knowledge and belief.<br>Place :<br>Date  :<br>Vishnulal U C<br>COURSE OF STUDY<br>BOARD<br>YEAR OF PASSING<br>AGGREGATE<br>BCA+MCA<br>(Integrated)<br>3 Year Diploma in<br>Electrical &amp; Electronics<br>Engineering<br>(Polytechnic)<br>Plus Two<br>(Computer Science)<br>Class X<br>Indira Gandhi National Open<br>University<br>Kerala State Board of Technical<br>Education<br>Kerala Higher Secondary Examination<br>Board<br>Board of Secondary Examination<br>Kerala<br>NA<br>2015<br>2011<br>2009<br>Pursuing<br>66%<br>63%<br>79 %<br>&lt;!DOCUMENT-BREAK&gt;<br> Monster.com India Pvt. Ltd.written by /usr/local/apache_back/bin/httpd [Perl<br>RTF::Writer v1.11]<br>;; Anand Thomas<br>Elappunkal House, near Orthodox Church, changancherry, kerala<br>Telephone:  09895529149, 0481-2422572,<br>Email id: anandelappunkal@gmail.com,anandelappunkal@yahoo.co.uk<br>3.11 Years of Experience working on asp .net focused on Software Design,<br>Development and Implementation of Business Applications.<br>Proficient in Application Development with Web Technologies, B2B Products,<br>Distributed Technologies and Client Server Architecture Environment.<br>Experience in technology areas such as Three-tier and N-tier Architecture<br>using asp .net.<br>Possess effective leadership skills. Effective and interactive team player<br>\n",
              "<mark class=\"entity\" style=\"background: #ddd; padding: 0.45em 0.6em; margin: 0 0.25em; line-height: 1; border-radius: 0.35em;\">\n",
              "    Working Experience\n",
              "June2008- till date working as Software Engineer\n",
              "    <span style=\"font-size: 0.8em; font-weight: bold; line-height: 1; border-radius: 0.35em; vertical-align: middle; margin-left: 0.5rem\">EXPERIENCE</span>\n",
              "</mark>\n",
              " Waybeo Info solutions<br>Trivandrum.<br>\n",
              "<mark class=\"entity\" style=\"background: #ddd; padding: 0.45em 0.6em; margin: 0 0.25em; line-height: 1; border-radius: 0.35em;\">\n",
              "    Oct2007- May2008 Working as Software Engineer\n",
              "    <span style=\"font-size: 0.8em; font-weight: bold; line-height: 1; border-radius: 0.35em; vertical-align: middle; margin-left: 0.5rem\">EXPERIENCE</span>\n",
              "</mark>\n",
              " HiFX IT &amp;#x26; Media<br>Services. Pvt. Ltd, Cochin.<br>\n",
              "<mark class=\"entity\" style=\"background: #ddd; padding: 0.45em 0.6em; margin: 0 0.25em; line-height: 1; border-radius: 0.35em;\">\n",
              "    Aug 2005 - Sept 2007  Working as Software Engineer\n",
              "    <span style=\"font-size: 0.8em; font-weight: bold; line-height: 1; border-radius: 0.35em; vertical-align: middle; margin-left: 0.5rem\">EXPERIENCE</span>\n",
              "</mark>\n",
              " Croszones Business<br>Solutions,D-0 Pamba, Techno park Campus,trivandrum<br>Academic Qualification<br>\n",
              "<mark class=\"entity\" style=\"background: #ddd; padding: 0.45em 0.6em; margin: 0 0.25em; line-height: 1; border-radius: 0.35em;\">\n",
              "    Master of Computer Applications [2002-2005]\n",
              "    <span style=\"font-size: 0.8em; font-weight: bold; line-height: 1; border-radius: 0.35em; vertical-align: middle; margin-left: 0.5rem\">EDU_PERIOD</span>\n",
              "</mark>\n",
              " From Kristu Jyoti College of<br>management &amp;#x26; Technology.<br>\n",
              "<mark class=\"entity\" style=\"background: #ddd; padding: 0.45em 0.6em; margin: 0 0.25em; line-height: 1; border-radius: 0.35em;\">\n",
              "    Bachelor of Maths [1999-2002]\n",
              "    <span style=\"font-size: 0.8em; font-weight: bold; line-height: 1; border-radius: 0.35em; vertical-align: middle; margin-left: 0.5rem\">EDU_PERIOD</span>\n",
              "</mark>\n",
              " From St: Berchmans College.<br>Technical Skills<br>Server Side Programming        :  asp .net, Servlets, JSP, Java Beans, JDBC,<br>RDBMS<br>:  Sql server.<br>Client Side programming<br>:  HTML, JavaScript, Ajax<br>Programming Languages         :  Java, C#, j2ee<br>Operating System                    :  Windows 98/NT/2000/XP<br>Others<br>: ADO .net, vb 6.0, EJB, Crystal Reports,WPF<br>Project Experience<br>ClientCareer Guidance &amp;#x26; Placement Unit(CGPU)On Going<br>:<br>Waybeo<br>Languages<br>:<br>ASP .NET 2.0, IIS,.NET framework 2.0, C#,MS Sql Server<br>2005 Team Size<br>:<br>3<br>Role              :          Design and Development<br>Description:<br>CGPU is an web site developed with all the campus placement details in mind. It has<br>three different Modules: Admin, Company and Student. CGPU also has a discussion<br>forum for all the registered students.Admin manages the all the process. Company can<br>view the student details and also download the resumes. Students can upload their<br>resumes and enter their details. It is implemented in using three tier architecture.<br>Pag<br>e 1<br><br><br>ClientQuant Logic<br>:<br>Quant Logic, U.K<br>Languages<br>:<br>ASP .NET 2.0, IIS,.NET framework 2.0, C#,MS Sql Server<br>2005 Duration :<br>7 Months<br>Team Size     :<br>5<br>Role              :          Design and Development<br>Description:<br>This project is an intranet web portal, which deals with automation of all financial<br>work flow of quantlogic. It is done for QUANTLOGIC, U.K. It is implemented using<br>three-tier architecture. Various modules of the project are: - Study Module done to set<br>up all study development process of quantlogic.Strategy Module deals creating and<br>assigning strategy details Performance Module deals with all the performance details<br>of the strategies.which contains the reports also. Optimization Module deals with the<br>optimizating performance. User management Module deals with different types of<br>users. Also two window applications for reading csv files and storing it into database.<br>I have used ORM frame work which was developed in our company in this project.<br>ClientEcampus<br>:<br>Middle East College of Information Technology, Oman<br>Languages<br>:<br>ASP .NET,IIS,.NET,C#,MS Sql Server,MS Source Safe<br>Duration<br>:<br>6 Months<br>Team Size     :<br>9<br>Role              :          Design and Development<br>Description:<br>This project is an internet/intranet web portal, which deals with automation of all<br>college processes. In addition, it also acts as a window to college for all students/<br>parents/ others. It is done for Middle East College for IT, Muscat. It is implemented<br>using three-tier architecture. Various modules of the project are: - Configuration<br>Module done to set up all configuration details for the college processes, Student<br>Registration Module deals with registering an applicant for course selected after<br>scrutiny, Academics Module deals with the academic details of each student like<br>calculating attendance, division wise allocation of students, marks calculation for each<br>student. Employee Module deals with the management teaching and non-teaching<br>staffs in the college and their payroll management, Inventory Module and messaging<br>module to send messages to the users or groups.<br>Auto India     www.autoindia.com<br>Client<br>:<br>Hitech Information System Inc. USA.<br>Languages<br>:<br>ASP .NET,IIS,.NET,C#,MS Sql Server,MS Source Safe<br>Duration<br>:<br>5 Months<br>Team Size     :<br>3<br>Role              :          Design and Development<br>Description:<br>User can buy and sell new vehicle as well as old vehicles through this site. User can<br>apply for loan when he buy a new vehicle or a second one. User will get all the details<br>regarding the latest market value of a car, two wheeler etc..This site is already having<br>tie up with auto India magazine.<br>Pag<br>e 2<br><br><br>ICCDB www.iccdb.org<br>Client<br>:<br>International Crop Circle Database, USA.<br>Languages<br>:<br>ASP .NET,IIS,.NET,C#,MS Sql Server, MS Source Safe<br>Duration<br>:<br>6 Months<br>Team Size     :<br>8<br>Role              :          Design and Development<br>Description:<br>This project is meant for research on crop circles. Using this site a person can report<br>about a crop circle formation along with its pictures and their related articles and other<br>binaries. Visitors can search through different formations and view related articles and<br>other binaries. This site is done for international crop circle research community<br>network.<br>EBids     www.ebids.com<br>Client<br>:<br>Hitech Information System Inc. USA..<br>Languages<br>:<br>ASP .NET, IIS,.NET, C#,MS Sql Server,MS Source Safe<br>Duration<br>:<br>7 Months<br>Team Size     :<br>4<br>Role              :          Design and Development<br>Description:<br>A bidding site for services. Includes buying and selling activities, credit card<br>evaluation and community management<br>Personal Details<br>Father's Name<br>:<br>E.K Thomas<br>Date of Birth<br>:<br>24-03-1982<br>Sex<br>:<br>Male<br>Marital Status<br>:<br>Single.<br>Nationality                          :       Indian.<br>Passport No<br>:<br>F6368461<br>PAN No                                :      AFWPT9867M<br>I here by declare that all the information stated above is true up to the best of my<br>knowledge and belief.<br>Place: Trivandrum<br>Anand Thomas<br>Pag<br>e 3<br></div></span>"
            ]
          },
          "metadata": {}
        }
      ],
      "source": [
        "spacy.displacy.render(doc, style=\"ent\", jupyter=True)"
      ]
    },
    {
      "cell_type": "code",
      "source": [
        "exp = []\n",
        "if doc.ents:\n",
        "  for ent in doc.ents:\n",
        "    if ent.label_ == \"EXPERIENCE\":\n",
        "      print(ent.text)\n",
        "\n",
        "  print(doc.ents)"
      ],
      "metadata": {
        "id": "PFz6oIRPZVIW"
      },
      "execution_count": null,
      "outputs": []
    },
    {
      "cell_type": "code",
      "source": [
        "import spacy\n",
        "from spacy.training import offsets_to_biluo_tags\n",
        "from spacy.tokens import DocBin\n",
        "from spacy.training.example import Example\n",
        "\n",
        "nlp = spacy.load(\"./model-best\")\n",
        "\n",
        "eval_data = DocBin().from_disk(\"./training_data/validation/validation_data.spacy\")\n",
        "\n",
        "docs = list(eval_data.get_docs(nlp.vocab))\n",
        "\n",
        "for doc in docs:\n",
        "    ents = [(ent.start, ent.end, ent.label_) for ent in doc.ents]\n",
        "    biluo_tags = offsets_to_biluo_tags(doc, ents)\n",
        "    if '-' in biluo_tags:\n",
        "        print(f\"Misaligned entities in text: {doc.text}\")\n",
        "        print(f\"Entities: {ents}\")\n",
        "        print(f\"BILUO Tags: {biluo_tags}\")\n",
        "\n",
        "examples = []\n",
        "for doc in docs:\n",
        "    ents = [(ent.start, ent.end, ent.label_) for ent in doc.ents]\n",
        "    if '-' not in offsets_to_biluo_tags(doc, ents):\n",
        "        example = Example.from_dict(doc, {\"entities\": ents})\n",
        "        examples.append(example)\n",
        "\n",
        "scorer = nlp.evaluate(examples)\n",
        "\n",
        "def safe_print_metric(scorer, metric_name, metric_display_name):\n",
        "    value = scorer.get(metric_name)\n",
        "    if value is not None:\n",
        "        print(f\"{metric_display_name}: {value:.2f}\")\n",
        "    else:\n",
        "        print(f\"{metric_display_name}: N/A\")\n",
        "\n",
        "print(\"Evaluation Metrics:\")\n",
        "safe_print_metric(scorer, 'ents_f', \"Entities F1-score (ENTS_F)\")\n",
        "safe_print_metric(scorer, 'ents_p', \"Entities Precision (ENTS_P)\")\n",
        "safe_print_metric(scorer, 'ents_r', \"Entities Recall (ENTS_R)\")\n",
        "\n",
        "print(\"Available keys in scorer:\", scorer.keys())\n",
        "\n",
        "safe_print_metric(scorer, 'token_acc', \"Token Accuracy (Token Acc)\")\n",
        "safe_print_metric(scorer, 'tags_acc', \"Tags Accuracy (Tags Acc)\")\n",
        "safe_print_metric(scorer, 'uas', \"Unlabeled Attachment Score (UAS)\")\n",
        "safe_print_metric(scorer, 'las', \"Labeled Attachment Score (LAS)\")\n"
      ],
      "metadata": {
        "id": "5D_MpBWlgxLE"
      },
      "execution_count": null,
      "outputs": []
    }
  ],
  "metadata": {
    "colab": {
      "provenance": [],
      "gpuType": "T4",
      "mount_file_id": "1QOIVmO6oA3ij6H4OWgozQ4cmsNZEGROs",
      "authorship_tag": "ABX9TyPVZVNEzbrVutrMS/hEJjbr"
    },
    "kernelspec": {
      "display_name": "Python 3",
      "name": "python3"
    },
    "language_info": {
      "name": "python"
    },
    "accelerator": "GPU"
  },
  "nbformat": 4,
  "nbformat_minor": 0
}